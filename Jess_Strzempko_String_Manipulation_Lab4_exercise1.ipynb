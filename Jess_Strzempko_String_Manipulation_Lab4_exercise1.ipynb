{
  "nbformat": 4,
  "nbformat_minor": 0,
  "metadata": {
    "colab": {
      "name": "Jess_Strzempko_String-Manipulation_Lab4-exercise1.ipynb",
      "provenance": [],
      "collapsed_sections": [],
      "authorship_tag": "ABX9TyOCCGtXFNCoR5QsErirC6MI",
      "include_colab_link": true
    },
    "kernelspec": {
      "name": "python3",
      "display_name": "Python 3"
    }
  },
  "cells": [
    {
      "cell_type": "markdown",
      "metadata": {
        "id": "view-in-github",
        "colab_type": "text"
      },
      "source": [
        "<a href=\"https://colab.research.google.com/github/IDCE-MSGIS/lab-4-string-manipulation-jstrzempko/blob/master/Jess_Strzempko_String_Manipulation_Lab4_exercise1.ipynb\" target=\"_parent\"><img src=\"https://colab.research.google.com/assets/colab-badge.svg\" alt=\"Open In Colab\"/></a>"
      ]
    },
    {
      "cell_type": "markdown",
      "metadata": {
        "id": "TNOZuhLVrNUB",
        "colab_type": "text"
      },
      "source": [
        "Jess Strzempko  \n",
        "Created 09.18.20  \n",
        "Python version 3.6.9  \n",
        "IDCE 302 Python Programming  \n",
        "\n",
        "## Lab 4 - String Manipulation\n",
        "\n",
        "This script defines a function that capitalizes the first and fourth letters of a name or any inputted string. It does so by using indexing to split the string into two parts, capitalizing each before concatenating them back together.   \n",
        "\n",
        "**Inputs:**  \n",
        "\n",
        "* String from the user\n",
        "\n",
        "**Outputs:**  \n",
        "\n",
        "* String with 1st and 4th letters capitalized"
      ]
    },
    {
      "cell_type": "code",
      "metadata": {
        "id": "pG3NKhItq3Tw",
        "colab_type": "code",
        "colab": {}
      },
      "source": [
        "#Initialize the script with a string input from the user\n",
        "string_input = input('Enter a string here: ')\n",
        "\n",
        "#Create function named old_macdonald\n",
        "#This function capitalizes the first and fourth letters of a string\n",
        "def old_macdonald(string):\n",
        "    first = string[0:3]                                  #Define variable first as characters 1-3 (index positions 0-2)\n",
        "    second = string[3:]                                  #Define variable second as characters 4 onward (index positions 3 onward)\n",
        "    capital = first.capitalize() + second.capitalize()   #Define variable capital as a concatenation of first & second\n",
        "    print(capital)                                       #Print capital\n",
        "\n",
        "old_macdonald('macdonald')                               #Call the function with example word 'macdonald'\n",
        "old_macdonald('sunflower')                               #Call the function with example compound word 'sunflower'\n",
        "old_macdonald(string_input)                              #Call the function with the user inputted string"
      ],
      "execution_count": null,
      "outputs": []
    }
  ]
}