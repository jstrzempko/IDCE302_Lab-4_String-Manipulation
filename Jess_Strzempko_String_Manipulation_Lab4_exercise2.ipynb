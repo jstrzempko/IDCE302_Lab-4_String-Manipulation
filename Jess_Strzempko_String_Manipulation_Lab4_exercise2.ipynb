{
  "nbformat": 4,
  "nbformat_minor": 0,
  "metadata": {
    "colab": {
      "name": "Jess_Strzempko_String-Manipulation_Lab4-exercise2.ipynb",
      "provenance": [],
      "collapsed_sections": [],
      "authorship_tag": "ABX9TyOoQY9AAAhaTY/hzEK8qCaD",
      "include_colab_link": true
    },
    "kernelspec": {
      "name": "python3",
      "display_name": "Python 3"
    }
  },
  "cells": [
    {
      "cell_type": "markdown",
      "metadata": {
        "id": "view-in-github",
        "colab_type": "text"
      },
      "source": [
        "<a href=\"https://colab.research.google.com/github/IDCE-MSGIS/lab-4-string-manipulation-jstrzempko/blob/master/Jess_Strzempko_String_Manipulation_Lab4_exercise2.ipynb\" target=\"_parent\"><img src=\"https://colab.research.google.com/assets/colab-badge.svg\" alt=\"Open In Colab\"/></a>"
      ]
    },
    {
      "cell_type": "markdown",
      "metadata": {
        "id": "TNOZuhLVrNUB",
        "colab_type": "text"
      },
      "source": [
        "Jess Strzempko  \n",
        "Created 09.18.20  \n",
        "Python version 3.6.9  \n",
        "IDCE 302 Python Programming  \n",
        "\n",
        "## Lab 4 - String Manipulation\n",
        "\n",
        "This script takes a multi-line string scraped from the National Weather Service Website and edits it using string manipulation techniques. The output string is in a format that is easier to read. \n",
        "\n",
        "**Inputs:**  \n",
        "\n",
        "* Multi-line string scraped from NWS website\n",
        "\n",
        "**Outputs:**  \n",
        "\n",
        "* Multi-line string reformatted so that each day of weather is on a separate line, with additional spaces, colons, and commas added for easier reading"
      ]
    },
    {
      "cell_type": "code",
      "metadata": {
        "id": "C8rnzAE5OVpg",
        "colab_type": "code",
        "colab": {}
      },
      "source": [
        "# -*- coding: utf-8 -*-\n",
        "# Keep the line above when running script\n",
        "# Tells python what encoding the string is stored in\n",
        "\n",
        "# Scraped multi-line String\n",
        "forecast = '''\n",
        "\n",
        "Tonight\n",
        "ClearLow: 55 F\n",
        "\n",
        "Thursday\n",
        "Sunny thenChanceShowersHigh: 77 F\n",
        "\n",
        "Friday\n",
        "SunnyHigh: 73 F\n",
        "\n",
        "Saturday\n",
        "Mostly SunnyHigh: 77 F\n",
        "\n",
        "Sunday\n",
        "Mostly SunnyHigh: 71 F\n",
        "'''\n",
        "\n",
        "# Split string into a list\n",
        "# Use two blank lines (\\n\\n) as the separator\n",
        "# Creates a list item at every instance of separator\n",
        "forecast_list = forecast.split('\\n\\n')\n",
        "\n",
        "# Loop through list to make string replacements to each item\n",
        "# Remove extra whitespaces or lines for a cleaner format\n",
        "for day in forecast_list:\n",
        "  # Replaces all instances of '\\n' (separator) with ': '\n",
        "  day = day.replace('\\n',': ')\n",
        "  # Replaces all instances of 'High' with ' High' (to add space)\n",
        "  day = day.replace('High', ', High')\n",
        "  # Replaces all instances of 'Low' with ' Low' (to add space)\n",
        "  day = day.replace('Low', ', Low')\n",
        "  # Replaces all instances of 'thenChanceShowers' with 'then Chance Showers'\n",
        "  day = day.replace('thenChanceShowers', 'then Chance Showers')\n",
        "  # Print each of the modified days line by line\n",
        "  print(day)"
      ],
      "execution_count": null,
      "outputs": []
    }
  ]
}