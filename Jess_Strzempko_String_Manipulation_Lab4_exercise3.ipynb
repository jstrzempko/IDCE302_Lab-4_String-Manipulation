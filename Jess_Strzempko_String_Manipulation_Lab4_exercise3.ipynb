{
  "nbformat": 4,
  "nbformat_minor": 0,
  "metadata": {
    "colab": {
      "name": "Jess_Strzempko_String-Manipulation_Lab4-exercise3.ipynb",
      "provenance": [],
      "collapsed_sections": [],
      "authorship_tag": "ABX9TyOBqec3ZHQCIl1vrjwLZChw",
      "include_colab_link": true
    },
    "kernelspec": {
      "name": "python3",
      "display_name": "Python 3"
    }
  },
  "cells": [
    {
      "cell_type": "markdown",
      "metadata": {
        "id": "view-in-github",
        "colab_type": "text"
      },
      "source": [
        "<a href=\"https://colab.research.google.com/github/IDCE-MSGIS/lab-4-string-manipulation-jstrzempko/blob/master/Jess_Strzempko_String_Manipulation_Lab4_exercise3.ipynb\" target=\"_parent\"><img src=\"https://colab.research.google.com/assets/colab-badge.svg\" alt=\"Open In Colab\"/></a>"
      ]
    },
    {
      "cell_type": "markdown",
      "metadata": {
        "id": "TNOZuhLVrNUB",
        "colab_type": "text"
      },
      "source": [
        "Jess Strzempko  \n",
        "Created 09.18.20  \n",
        "Python version 3.6.9  \n",
        "IDCE 302 Python Programming  \n",
        "\n",
        "## Lab 4 - String Manipulation\n",
        "\n",
        "This script extracts the latitude and longitude values from the provided [Google Maps URL](https://www.google.com/maps/@42.2509428,-71.8249939,17z). It uses index splicing to create two different variables for latitude and longitude and prints them out in a clear and labeled format. \n",
        "\n",
        "**Inputs:**  \n",
        "\n",
        "* Google Maps URL\n",
        "\n",
        "**Outputs:**  \n",
        "\n",
        "* Text giving the Latitude and Longitude contained in the URL"
      ]
    },
    {
      "cell_type": "code",
      "metadata": {
        "id": "NqQuYYKcQt0Q",
        "colab_type": "code",
        "colab": {}
      },
      "source": [
        "#Create a string variable containing the text of the URL\n",
        "URL = 'https://www.google.com/maps/@42.2509428,-71.8249939,17z'\n",
        "\n",
        "#Use reverse indexing to slice URL\n",
        "#Latitude value is found from index position -26 up to but not including position -16\n",
        "lat = URL[-26:-16]\n",
        "\n",
        "#Longitude value is found from index position -15 up to but not including position -4\n",
        "lon = URL[-15:-4]\n",
        "\n",
        "#Print the lat and lon variables with appropriate labels\n",
        "print('Latitude: ', lat)\n",
        "print('Longitude: ', lon)"
      ],
      "execution_count": null,
      "outputs": []
    }
  ]
}